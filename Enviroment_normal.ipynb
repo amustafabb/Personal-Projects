{
 "cells": [
  {
   "cell_type": "code",
   "execution_count": 5,
   "id": "d5e4639f-71ad-4dae-a1b5-1b280906f879",
   "metadata": {},
   "outputs": [
    {
     "name": "stdout",
     "output_type": "stream",
     "text": [
      "No missing values detected!\n"
     ]
    }
   ],
   "source": [
    "import pandas as pd\n",
    "\n",
    "df = pd.read_csv('Results_21Mar2022.csv')\n",
    "\n",
    "if df.isnull().sum().any():\n",
    "    print(\"Missing values detected! Here are the columns with missing values:\")\n",
    "    print(df.isnull().sum())\n",
    "    df = df.fillna(df.mean())\n",
    "    \n",
    "\n",
    "else:\n",
    "    print(\"No missing values detected!\")\n",
    "\n",
    "df['diet_group'] = df['diet_group'].replace({\n",
    "    'meat100': 'meat', \n",
    "    'meat50': 'meat',\n",
    "})\n",
    "\n",
    "columns_to_normalize = [\n",
    "    'mean_ghgs', 'mean_land', 'mean_watscar', 'mean_eut',\n",
    "    'mean_ghgs_ch4', 'mean_ghgs_n2o', 'mean_bio', 'mean_watuse', 'mean_acid'\n",
    "]\n",
    "\n",
    "def min_max_normalize(column):\n",
    "    return (column - column.min()) / (column.max() - column.min())\n",
    "\n",
    "for column in columns_to_normalize:\n",
    "    df[f'normalized_{column}'] = min_max_normalize(df[column])\n",
    "\n",
    "df['Environmental_Impact_Score'] = df[[f'normalized_{col}' for col in columns_to_normalize]].mean(axis=1)\n",
    "\n",
    "df['normalized_Environmental_Impact_Score'] = min_max_normalize(df['Environmental_Impact_Score'])\n",
    "\n",
    "df.to_csv('new_data_combined_meat_score.csv', index=False)\n"
   ]
  },
  {
   "cell_type": "code",
   "execution_count": null,
   "id": "1b97b1dc-2bd3-43cc-a5e2-49698afd0ca1",
   "metadata": {},
   "outputs": [],
   "source": []
  }
 ],
 "metadata": {
  "kernelspec": {
   "display_name": "Python 3 (ipykernel)",
   "language": "python",
   "name": "python3"
  },
  "language_info": {
   "codemirror_mode": {
    "name": "ipython",
    "version": 3
   },
   "file_extension": ".py",
   "mimetype": "text/x-python",
   "name": "python",
   "nbconvert_exporter": "python",
   "pygments_lexer": "ipython3",
   "version": "3.12.4"
  }
 },
 "nbformat": 4,
 "nbformat_minor": 5
}
